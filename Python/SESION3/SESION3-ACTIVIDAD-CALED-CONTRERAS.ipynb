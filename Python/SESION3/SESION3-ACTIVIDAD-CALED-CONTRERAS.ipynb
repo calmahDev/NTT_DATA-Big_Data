{
 "cells": [
  {
   "cell_type": "code",
   "execution_count": 1,
   "id": "5cc70e3a",
   "metadata": {},
   "outputs": [],
   "source": [
    "import pandas as pd\n"
   ]
  },
  {
   "cell_type": "code",
   "execution_count": 2,
   "id": "61db04d7",
   "metadata": {},
   "outputs": [],
   "source": [
    "df = pd.read_csv('ventas-por-factura.csv')\n"
   ]
  },
  {
   "cell_type": "code",
   "execution_count": 3,
   "id": "8f4487cc",
   "metadata": {},
   "outputs": [],
   "source": [
    "# Limpiar 'Nro de factura' y asegurarse de que sea único\n",
    "df['Nro de factura'] = df['Nro de factura'].astype(str).str[-6:].astype(int)\n",
    "df.drop_duplicates(subset=['Nro de factura'], inplace=True)"
   ]
  },
  {
   "cell_type": "code",
   "execution_count": 4,
   "id": "497e1177",
   "metadata": {},
   "outputs": [],
   "source": [
    "# Convertir 'Fecha de factura' a tipo datetime y extraer mes y año\n",
    "df['Fecha de factura'] = pd.to_datetime(df['Fecha de factura'])\n",
    "df['Mes'] = df['Fecha de factura'].dt.month\n",
    "df['Año'] = df['Fecha de factura'].dt.year"
   ]
  },
  {
   "cell_type": "code",
   "execution_count": 5,
   "id": "64a0e805",
   "metadata": {},
   "outputs": [],
   "source": [
    "# Guardar el DataFrame modificado en un nuevo archivo CSV\n",
    "df.to_csv('VENTAS_FACTURAS.csv', index=False)\n"
   ]
  },
  {
   "cell_type": "code",
   "execution_count": 6,
   "id": "13c193a1",
   "metadata": {},
   "outputs": [
    {
     "name": "stdout",
     "output_type": "stream",
     "text": [
      "     Año                  Pais  Cantidad de Ventas\n",
      "0   2020             Australia                   4\n",
      "1   2020               Austria                   2\n",
      "2   2020               Bahrain                   1\n",
      "3   2020               Belgium                   5\n",
      "4   2020       Channel Islands                   1\n",
      "..   ...                   ...                 ...\n",
      "56  2021           Switzerland                  72\n",
      "57  2021                   USA                   7\n",
      "58  2021  United Arab Emirates                   3\n",
      "59  2021        United Kingdom               21609\n",
      "60  2021           Unspecified                  13\n",
      "\n",
      "[61 rows x 3 columns]\n"
     ]
    }
   ],
   "source": [
    "# Mostrar la cantidad de ventas por año y por país\n",
    "ventas_por_anio_pais = df.groupby(['Año', 'Pais']).size().reset_index(name='Cantidad de Ventas')\n",
    "print(ventas_por_anio_pais)"
   ]
  },
  {
   "cell_type": "code",
   "execution_count": 9,
   "id": "119e6034",
   "metadata": {},
   "outputs": [
    {
     "name": "stdout",
     "output_type": "stream",
     "text": [
      "Nro de factura                   581483\n",
      "Fecha de factura    2021-12-09 09:15:00\n",
      "ID Cliente                      16446.0\n",
      "Pais                     United Kingdom\n",
      "Cantidad                          80995\n",
      "Monto                         168469,60\n",
      "Mes                                  12\n",
      "Año                                2021\n",
      "Name: 13136, dtype: object\n"
     ]
    }
   ],
   "source": [
    "# Encontrar el registro del cliente con el monto desembolsado máximo y su país\n",
    "cliente_max_monto = df.loc[df['Monto'].str.replace(',', '').astype(float).idxmax()]\n",
    "print(cliente_max_monto)"
   ]
  },
  {
   "cell_type": "code",
   "execution_count": null,
   "id": "d18d5c50",
   "metadata": {},
   "outputs": [],
   "source": []
  }
 ],
 "metadata": {
  "kernelspec": {
   "display_name": "Python 3 (ipykernel)",
   "language": "python",
   "name": "python3"
  },
  "language_info": {
   "codemirror_mode": {
    "name": "ipython",
    "version": 3
   },
   "file_extension": ".py",
   "mimetype": "text/x-python",
   "name": "python",
   "nbconvert_exporter": "python",
   "pygments_lexer": "ipython3",
   "version": "3.11.5"
  }
 },
 "nbformat": 4,
 "nbformat_minor": 5
}
